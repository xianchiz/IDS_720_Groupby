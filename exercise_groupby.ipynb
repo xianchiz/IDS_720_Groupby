{
 "cells": [
  {
   "cell_type": "code",
   "execution_count": 1,
   "metadata": {},
   "outputs": [],
   "source": [
    "# import packages\n",
    "import pandas as pd\n",
    "import numpy as np\n",
    "import matplotlib.pyplot as plt\n",
    "import altair as alt\n"
   ]
  },
  {
   "cell_type": "markdown",
   "metadata": {},
   "source": [
    "# Exercise 1: Import raw California arrest data"
   ]
  },
  {
   "cell_type": "code",
   "execution_count": 2,
   "metadata": {},
   "outputs": [
    {
     "data": {
      "text/html": [
       "<div>\n",
       "<style scoped>\n",
       "    .dataframe tbody tr th:only-of-type {\n",
       "        vertical-align: middle;\n",
       "    }\n",
       "\n",
       "    .dataframe tbody tr th {\n",
       "        vertical-align: top;\n",
       "    }\n",
       "\n",
       "    .dataframe thead th {\n",
       "        text-align: right;\n",
       "    }\n",
       "</style>\n",
       "<table border=\"1\" class=\"dataframe\">\n",
       "  <thead>\n",
       "    <tr style=\"text-align: right;\">\n",
       "      <th></th>\n",
       "      <th>YEAR</th>\n",
       "      <th>GENDER</th>\n",
       "      <th>RACE</th>\n",
       "      <th>AGE_GROUP</th>\n",
       "      <th>COUNTY</th>\n",
       "      <th>VIOLENT</th>\n",
       "      <th>PROPERTY</th>\n",
       "      <th>F_DRUGOFF</th>\n",
       "      <th>F_SEXOFF</th>\n",
       "      <th>F_ALLOTHER</th>\n",
       "      <th>F_TOTAL</th>\n",
       "      <th>M_TOTAL</th>\n",
       "      <th>S_TOTAL</th>\n",
       "    </tr>\n",
       "  </thead>\n",
       "  <tbody>\n",
       "    <tr>\n",
       "      <th>0</th>\n",
       "      <td>1980</td>\n",
       "      <td>Male</td>\n",
       "      <td>Black</td>\n",
       "      <td>Under 18</td>\n",
       "      <td>Alameda County</td>\n",
       "      <td>505</td>\n",
       "      <td>1351</td>\n",
       "      <td>188</td>\n",
       "      <td>26</td>\n",
       "      <td>79</td>\n",
       "      <td>2149</td>\n",
       "      <td>2286</td>\n",
       "      <td>295</td>\n",
       "    </tr>\n",
       "    <tr>\n",
       "      <th>1</th>\n",
       "      <td>1980</td>\n",
       "      <td>Male</td>\n",
       "      <td>Black</td>\n",
       "      <td>18 to 19</td>\n",
       "      <td>Alameda County</td>\n",
       "      <td>205</td>\n",
       "      <td>465</td>\n",
       "      <td>183</td>\n",
       "      <td>8</td>\n",
       "      <td>48</td>\n",
       "      <td>909</td>\n",
       "      <td>1333</td>\n",
       "      <td>0</td>\n",
       "    </tr>\n",
       "    <tr>\n",
       "      <th>2</th>\n",
       "      <td>1980</td>\n",
       "      <td>Male</td>\n",
       "      <td>Black</td>\n",
       "      <td>20 to 29</td>\n",
       "      <td>Alameda County</td>\n",
       "      <td>949</td>\n",
       "      <td>1593</td>\n",
       "      <td>606</td>\n",
       "      <td>27</td>\n",
       "      <td>178</td>\n",
       "      <td>3353</td>\n",
       "      <td>7974</td>\n",
       "      <td>0</td>\n",
       "    </tr>\n",
       "    <tr>\n",
       "      <th>3</th>\n",
       "      <td>1980</td>\n",
       "      <td>Male</td>\n",
       "      <td>Black</td>\n",
       "      <td>30 to 39</td>\n",
       "      <td>Alameda County</td>\n",
       "      <td>450</td>\n",
       "      <td>755</td>\n",
       "      <td>241</td>\n",
       "      <td>18</td>\n",
       "      <td>110</td>\n",
       "      <td>1574</td>\n",
       "      <td>4876</td>\n",
       "      <td>0</td>\n",
       "    </tr>\n",
       "    <tr>\n",
       "      <th>4</th>\n",
       "      <td>1980</td>\n",
       "      <td>Male</td>\n",
       "      <td>Black</td>\n",
       "      <td>40 to 69</td>\n",
       "      <td>Alameda County</td>\n",
       "      <td>172</td>\n",
       "      <td>218</td>\n",
       "      <td>117</td>\n",
       "      <td>11</td>\n",
       "      <td>66</td>\n",
       "      <td>584</td>\n",
       "      <td>3836</td>\n",
       "      <td>0</td>\n",
       "    </tr>\n",
       "    <tr>\n",
       "      <th>5</th>\n",
       "      <td>1980</td>\n",
       "      <td>Male</td>\n",
       "      <td>Black</td>\n",
       "      <td>70 and over</td>\n",
       "      <td>Alameda County</td>\n",
       "      <td>4</td>\n",
       "      <td>2</td>\n",
       "      <td>2</td>\n",
       "      <td>0</td>\n",
       "      <td>0</td>\n",
       "      <td>8</td>\n",
       "      <td>79</td>\n",
       "      <td>0</td>\n",
       "    </tr>\n",
       "    <tr>\n",
       "      <th>6</th>\n",
       "      <td>1980</td>\n",
       "      <td>Male</td>\n",
       "      <td>Hispanic</td>\n",
       "      <td>Under 18</td>\n",
       "      <td>Alameda County</td>\n",
       "      <td>151</td>\n",
       "      <td>365</td>\n",
       "      <td>40</td>\n",
       "      <td>9</td>\n",
       "      <td>77</td>\n",
       "      <td>642</td>\n",
       "      <td>1303</td>\n",
       "      <td>187</td>\n",
       "    </tr>\n",
       "    <tr>\n",
       "      <th>7</th>\n",
       "      <td>1980</td>\n",
       "      <td>Male</td>\n",
       "      <td>Hispanic</td>\n",
       "      <td>18 to 19</td>\n",
       "      <td>Alameda County</td>\n",
       "      <td>83</td>\n",
       "      <td>89</td>\n",
       "      <td>48</td>\n",
       "      <td>0</td>\n",
       "      <td>58</td>\n",
       "      <td>278</td>\n",
       "      <td>963</td>\n",
       "      <td>0</td>\n",
       "    </tr>\n",
       "    <tr>\n",
       "      <th>8</th>\n",
       "      <td>1980</td>\n",
       "      <td>Male</td>\n",
       "      <td>Hispanic</td>\n",
       "      <td>20 to 29</td>\n",
       "      <td>Alameda County</td>\n",
       "      <td>226</td>\n",
       "      <td>243</td>\n",
       "      <td>158</td>\n",
       "      <td>13</td>\n",
       "      <td>86</td>\n",
       "      <td>726</td>\n",
       "      <td>3748</td>\n",
       "      <td>0</td>\n",
       "    </tr>\n",
       "    <tr>\n",
       "      <th>9</th>\n",
       "      <td>1980</td>\n",
       "      <td>Male</td>\n",
       "      <td>Hispanic</td>\n",
       "      <td>30 to 39</td>\n",
       "      <td>Alameda County</td>\n",
       "      <td>59</td>\n",
       "      <td>80</td>\n",
       "      <td>41</td>\n",
       "      <td>8</td>\n",
       "      <td>33</td>\n",
       "      <td>221</td>\n",
       "      <td>1669</td>\n",
       "      <td>0</td>\n",
       "    </tr>\n",
       "  </tbody>\n",
       "</table>\n",
       "</div>"
      ],
      "text/plain": [
       "   YEAR GENDER      RACE    AGE_GROUP          COUNTY  VIOLENT  PROPERTY  \\\n",
       "0  1980   Male     Black     Under 18  Alameda County      505      1351   \n",
       "1  1980   Male     Black     18 to 19  Alameda County      205       465   \n",
       "2  1980   Male     Black     20 to 29  Alameda County      949      1593   \n",
       "3  1980   Male     Black     30 to 39  Alameda County      450       755   \n",
       "4  1980   Male     Black     40 to 69  Alameda County      172       218   \n",
       "5  1980   Male     Black  70 and over  Alameda County        4         2   \n",
       "6  1980   Male  Hispanic     Under 18  Alameda County      151       365   \n",
       "7  1980   Male  Hispanic     18 to 19  Alameda County       83        89   \n",
       "8  1980   Male  Hispanic     20 to 29  Alameda County      226       243   \n",
       "9  1980   Male  Hispanic     30 to 39  Alameda County       59        80   \n",
       "\n",
       "   F_DRUGOFF  F_SEXOFF  F_ALLOTHER  F_TOTAL  M_TOTAL  S_TOTAL  \n",
       "0        188        26          79     2149     2286      295  \n",
       "1        183         8          48      909     1333        0  \n",
       "2        606        27         178     3353     7974        0  \n",
       "3        241        18         110     1574     4876        0  \n",
       "4        117        11          66      584     3836        0  \n",
       "5          2         0           0        8       79        0  \n",
       "6         40         9          77      642     1303      187  \n",
       "7         48         0          58      278      963        0  \n",
       "8        158        13          86      726     3748        0  \n",
       "9         41         8          33      221     1669        0  "
      ]
     },
     "execution_count": 2,
     "metadata": {},
     "output_type": "execute_result"
    }
   ],
   "source": [
    "# load in data\n",
    "df = pd.read_csv(\n",
    "    \"https://media.githubusercontent.com/media/nickeubank/MIDS_Data/master/OnlineArrestData1980-2021.csv\"\n",
    ") \n",
    "df.head(10)"
   ]
  },
  {
   "cell_type": "markdown",
   "metadata": {},
   "source": [
    "# Exercise 2: Unit of Observation"
   ]
  },
  {
   "cell_type": "markdown",
   "metadata": {},
   "source": [
    "From the table, each row represent how many people have the relavant data values, for example, under F_drugoff (felony drug arrests), 188 black males under age 18 in Alameda County were arrested with this charge in 1980. "
   ]
  },
  {
   "cell_type": "markdown",
   "metadata": {},
   "source": [
    "# Exercise 3: Check for unique rows"
   ]
  },
  {
   "cell_type": "code",
   "execution_count": 3,
   "metadata": {},
   "outputs": [],
   "source": [
    "#check for unique rows\n",
    "df1 = df.duplicated([\"YEAR\", \"GENDER\", \"RACE\", \"AGE_GROUP\", \"COUNTY\"]).sum()\n",
    "assert not df1.any()"
   ]
  },
  {
   "cell_type": "markdown",
   "metadata": {},
   "source": [
    "# Exercise 4: Collapse data "
   ]
  },
  {
   "cell_type": "code",
   "execution_count": 4,
   "metadata": {},
   "outputs": [
    {
     "name": "stderr",
     "output_type": "stream",
     "text": [
      "/var/folders/n2/5x35hhp53jg1kc9jxswsqhww0000gn/T/ipykernel_96027/3573147655.py:1: FutureWarning: The default value of numeric_only in DataFrameGroupBy.sum is deprecated. In a future version, numeric_only will default to False. Either specify numeric_only or select only columns which should be valid for the function.\n",
      "  county_year_race = df.groupby([\"YEAR\", \"RACE\", \"COUNTY\"], as_index=False).sum()\n"
     ]
    },
    {
     "data": {
      "text/html": [
       "<div>\n",
       "<style scoped>\n",
       "    .dataframe tbody tr th:only-of-type {\n",
       "        vertical-align: middle;\n",
       "    }\n",
       "\n",
       "    .dataframe tbody tr th {\n",
       "        vertical-align: top;\n",
       "    }\n",
       "\n",
       "    .dataframe thead th {\n",
       "        text-align: right;\n",
       "    }\n",
       "</style>\n",
       "<table border=\"1\" class=\"dataframe\">\n",
       "  <thead>\n",
       "    <tr style=\"text-align: right;\">\n",
       "      <th></th>\n",
       "      <th>YEAR</th>\n",
       "      <th>RACE</th>\n",
       "      <th>COUNTY</th>\n",
       "      <th>VIOLENT</th>\n",
       "      <th>PROPERTY</th>\n",
       "      <th>F_DRUGOFF</th>\n",
       "      <th>F_SEXOFF</th>\n",
       "      <th>F_ALLOTHER</th>\n",
       "      <th>F_TOTAL</th>\n",
       "      <th>M_TOTAL</th>\n",
       "      <th>S_TOTAL</th>\n",
       "    </tr>\n",
       "  </thead>\n",
       "  <tbody>\n",
       "    <tr>\n",
       "      <th>0</th>\n",
       "      <td>1980</td>\n",
       "      <td>Black</td>\n",
       "      <td>Alameda County</td>\n",
       "      <td>2594</td>\n",
       "      <td>5138</td>\n",
       "      <td>1489</td>\n",
       "      <td>94</td>\n",
       "      <td>541</td>\n",
       "      <td>9856</td>\n",
       "      <td>24081</td>\n",
       "      <td>555</td>\n",
       "    </tr>\n",
       "    <tr>\n",
       "      <th>1</th>\n",
       "      <td>1980</td>\n",
       "      <td>Black</td>\n",
       "      <td>Butte County</td>\n",
       "      <td>32</td>\n",
       "      <td>33</td>\n",
       "      <td>5</td>\n",
       "      <td>0</td>\n",
       "      <td>7</td>\n",
       "      <td>77</td>\n",
       "      <td>139</td>\n",
       "      <td>0</td>\n",
       "    </tr>\n",
       "    <tr>\n",
       "      <th>2</th>\n",
       "      <td>1980</td>\n",
       "      <td>Black</td>\n",
       "      <td>Calaveras County</td>\n",
       "      <td>0</td>\n",
       "      <td>0</td>\n",
       "      <td>0</td>\n",
       "      <td>0</td>\n",
       "      <td>0</td>\n",
       "      <td>0</td>\n",
       "      <td>7</td>\n",
       "      <td>0</td>\n",
       "    </tr>\n",
       "    <tr>\n",
       "      <th>3</th>\n",
       "      <td>1980</td>\n",
       "      <td>Black</td>\n",
       "      <td>Colusa County</td>\n",
       "      <td>0</td>\n",
       "      <td>5</td>\n",
       "      <td>0</td>\n",
       "      <td>0</td>\n",
       "      <td>0</td>\n",
       "      <td>5</td>\n",
       "      <td>13</td>\n",
       "      <td>0</td>\n",
       "    </tr>\n",
       "    <tr>\n",
       "      <th>4</th>\n",
       "      <td>1980</td>\n",
       "      <td>Black</td>\n",
       "      <td>Contra Costa County</td>\n",
       "      <td>720</td>\n",
       "      <td>1422</td>\n",
       "      <td>368</td>\n",
       "      <td>24</td>\n",
       "      <td>257</td>\n",
       "      <td>2791</td>\n",
       "      <td>5201</td>\n",
       "      <td>40</td>\n",
       "    </tr>\n",
       "    <tr>\n",
       "      <th>...</th>\n",
       "      <td>...</td>\n",
       "      <td>...</td>\n",
       "      <td>...</td>\n",
       "      <td>...</td>\n",
       "      <td>...</td>\n",
       "      <td>...</td>\n",
       "      <td>...</td>\n",
       "      <td>...</td>\n",
       "      <td>...</td>\n",
       "      <td>...</td>\n",
       "      <td>...</td>\n",
       "    </tr>\n",
       "    <tr>\n",
       "      <th>9697</th>\n",
       "      <td>2021</td>\n",
       "      <td>White</td>\n",
       "      <td>Tulare County</td>\n",
       "      <td>524</td>\n",
       "      <td>407</td>\n",
       "      <td>195</td>\n",
       "      <td>10</td>\n",
       "      <td>413</td>\n",
       "      <td>1549</td>\n",
       "      <td>3368</td>\n",
       "      <td>31</td>\n",
       "    </tr>\n",
       "    <tr>\n",
       "      <th>9698</th>\n",
       "      <td>2021</td>\n",
       "      <td>White</td>\n",
       "      <td>Tuolumne County</td>\n",
       "      <td>182</td>\n",
       "      <td>63</td>\n",
       "      <td>35</td>\n",
       "      <td>13</td>\n",
       "      <td>289</td>\n",
       "      <td>582</td>\n",
       "      <td>1393</td>\n",
       "      <td>2</td>\n",
       "    </tr>\n",
       "    <tr>\n",
       "      <th>9699</th>\n",
       "      <td>2021</td>\n",
       "      <td>White</td>\n",
       "      <td>Ventura County</td>\n",
       "      <td>574</td>\n",
       "      <td>372</td>\n",
       "      <td>308</td>\n",
       "      <td>13</td>\n",
       "      <td>672</td>\n",
       "      <td>1939</td>\n",
       "      <td>7509</td>\n",
       "      <td>18</td>\n",
       "    </tr>\n",
       "    <tr>\n",
       "      <th>9700</th>\n",
       "      <td>2021</td>\n",
       "      <td>White</td>\n",
       "      <td>Yolo County</td>\n",
       "      <td>171</td>\n",
       "      <td>163</td>\n",
       "      <td>51</td>\n",
       "      <td>8</td>\n",
       "      <td>173</td>\n",
       "      <td>566</td>\n",
       "      <td>1051</td>\n",
       "      <td>0</td>\n",
       "    </tr>\n",
       "    <tr>\n",
       "      <th>9701</th>\n",
       "      <td>2021</td>\n",
       "      <td>White</td>\n",
       "      <td>Yuba County</td>\n",
       "      <td>215</td>\n",
       "      <td>123</td>\n",
       "      <td>68</td>\n",
       "      <td>20</td>\n",
       "      <td>138</td>\n",
       "      <td>564</td>\n",
       "      <td>1160</td>\n",
       "      <td>0</td>\n",
       "    </tr>\n",
       "  </tbody>\n",
       "</table>\n",
       "<p>9702 rows × 11 columns</p>\n",
       "</div>"
      ],
      "text/plain": [
       "      YEAR   RACE               COUNTY  VIOLENT  PROPERTY  F_DRUGOFF  \\\n",
       "0     1980  Black       Alameda County     2594      5138       1489   \n",
       "1     1980  Black         Butte County       32        33          5   \n",
       "2     1980  Black     Calaveras County        0         0          0   \n",
       "3     1980  Black        Colusa County        0         5          0   \n",
       "4     1980  Black  Contra Costa County      720      1422        368   \n",
       "...    ...    ...                  ...      ...       ...        ...   \n",
       "9697  2021  White        Tulare County      524       407        195   \n",
       "9698  2021  White      Tuolumne County      182        63         35   \n",
       "9699  2021  White       Ventura County      574       372        308   \n",
       "9700  2021  White          Yolo County      171       163         51   \n",
       "9701  2021  White          Yuba County      215       123         68   \n",
       "\n",
       "      F_SEXOFF  F_ALLOTHER  F_TOTAL  M_TOTAL  S_TOTAL  \n",
       "0           94         541     9856    24081      555  \n",
       "1            0           7       77      139        0  \n",
       "2            0           0        0        7        0  \n",
       "3            0           0        5       13        0  \n",
       "4           24         257     2791     5201       40  \n",
       "...        ...         ...      ...      ...      ...  \n",
       "9697        10         413     1549     3368       31  \n",
       "9698        13         289      582     1393        2  \n",
       "9699        13         672     1939     7509       18  \n",
       "9700         8         173      566     1051        0  \n",
       "9701        20         138      564     1160        0  \n",
       "\n",
       "[9702 rows x 11 columns]"
      ]
     },
     "execution_count": 4,
     "metadata": {},
     "output_type": "execute_result"
    }
   ],
   "source": [
    "county_year_race = df.groupby([\"YEAR\", \"RACE\", \"COUNTY\"], as_index=False).sum()\n",
    "county_year_race"
   ]
  },
  {
   "cell_type": "code",
   "execution_count": 5,
   "metadata": {},
   "outputs": [
    {
     "name": "stdout",
     "output_type": "stream",
     "text": [
      "There are 9702 rows.\n"
     ]
    }
   ],
   "source": [
    "ex4_num_rows = county_year_race.shape[0]\n",
    "print(f\"There are {ex4_num_rows} rows.\")"
   ]
  },
  {
   "cell_type": "markdown",
   "metadata": {},
   "source": [
    "# Exercise 5: Identify collapsed variables"
   ]
  },
  {
   "cell_type": "code",
   "execution_count": 6,
   "metadata": {},
   "outputs": [
    {
     "data": {
      "text/plain": [
       "['AGE_GROUP', 'GENDER']"
      ]
     },
     "execution_count": 6,
     "metadata": {},
     "output_type": "execute_result"
    }
   ],
   "source": [
    "ex5_collapsed_vars = [\"AGE_GROUP\", \"GENDER\"]\n",
    "ex5_collapsed_vars"
   ]
  },
  {
   "cell_type": "markdown",
   "metadata": {},
   "source": [
    "# Exercise 6: Total drug and violent arrests"
   ]
  },
  {
   "cell_type": "code",
   "execution_count": 7,
   "metadata": {},
   "outputs": [
    {
     "data": {
      "text/html": [
       "<div>\n",
       "<style scoped>\n",
       "    .dataframe tbody tr th:only-of-type {\n",
       "        vertical-align: middle;\n",
       "    }\n",
       "\n",
       "    .dataframe tbody tr th {\n",
       "        vertical-align: top;\n",
       "    }\n",
       "\n",
       "    .dataframe thead th {\n",
       "        text-align: right;\n",
       "    }\n",
       "</style>\n",
       "<table border=\"1\" class=\"dataframe\">\n",
       "  <thead>\n",
       "    <tr style=\"text-align: right;\">\n",
       "      <th></th>\n",
       "      <th>YEAR</th>\n",
       "      <th>RACE</th>\n",
       "      <th>COUNTY</th>\n",
       "      <th>VIOLENT</th>\n",
       "      <th>PROPERTY</th>\n",
       "      <th>F_DRUGOFF</th>\n",
       "      <th>F_SEXOFF</th>\n",
       "      <th>F_ALLOTHER</th>\n",
       "      <th>F_TOTAL</th>\n",
       "      <th>M_TOTAL</th>\n",
       "      <th>S_TOTAL</th>\n",
       "      <th>total_violent_by_race</th>\n",
       "      <th>total_drug_by_race</th>\n",
       "    </tr>\n",
       "  </thead>\n",
       "  <tbody>\n",
       "    <tr>\n",
       "      <th>0</th>\n",
       "      <td>1980</td>\n",
       "      <td>Black</td>\n",
       "      <td>Alameda County</td>\n",
       "      <td>2594</td>\n",
       "      <td>5138</td>\n",
       "      <td>1489</td>\n",
       "      <td>94</td>\n",
       "      <td>541</td>\n",
       "      <td>9856</td>\n",
       "      <td>24081</td>\n",
       "      <td>555</td>\n",
       "      <td>4504</td>\n",
       "      <td>3569</td>\n",
       "    </tr>\n",
       "    <tr>\n",
       "      <th>1</th>\n",
       "      <td>1980</td>\n",
       "      <td>Black</td>\n",
       "      <td>Butte County</td>\n",
       "      <td>32</td>\n",
       "      <td>33</td>\n",
       "      <td>5</td>\n",
       "      <td>0</td>\n",
       "      <td>7</td>\n",
       "      <td>77</td>\n",
       "      <td>139</td>\n",
       "      <td>0</td>\n",
       "      <td>306</td>\n",
       "      <td>149</td>\n",
       "    </tr>\n",
       "    <tr>\n",
       "      <th>2</th>\n",
       "      <td>1980</td>\n",
       "      <td>Black</td>\n",
       "      <td>Calaveras County</td>\n",
       "      <td>0</td>\n",
       "      <td>0</td>\n",
       "      <td>0</td>\n",
       "      <td>0</td>\n",
       "      <td>0</td>\n",
       "      <td>0</td>\n",
       "      <td>7</td>\n",
       "      <td>0</td>\n",
       "      <td>52</td>\n",
       "      <td>83</td>\n",
       "    </tr>\n",
       "    <tr>\n",
       "      <th>3</th>\n",
       "      <td>1980</td>\n",
       "      <td>Black</td>\n",
       "      <td>Colusa County</td>\n",
       "      <td>0</td>\n",
       "      <td>5</td>\n",
       "      <td>0</td>\n",
       "      <td>0</td>\n",
       "      <td>0</td>\n",
       "      <td>5</td>\n",
       "      <td>13</td>\n",
       "      <td>0</td>\n",
       "      <td>28</td>\n",
       "      <td>9</td>\n",
       "    </tr>\n",
       "    <tr>\n",
       "      <th>4</th>\n",
       "      <td>1980</td>\n",
       "      <td>Black</td>\n",
       "      <td>Contra Costa County</td>\n",
       "      <td>720</td>\n",
       "      <td>1422</td>\n",
       "      <td>368</td>\n",
       "      <td>24</td>\n",
       "      <td>257</td>\n",
       "      <td>2791</td>\n",
       "      <td>5201</td>\n",
       "      <td>40</td>\n",
       "      <td>1596</td>\n",
       "      <td>1089</td>\n",
       "    </tr>\n",
       "    <tr>\n",
       "      <th>...</th>\n",
       "      <td>...</td>\n",
       "      <td>...</td>\n",
       "      <td>...</td>\n",
       "      <td>...</td>\n",
       "      <td>...</td>\n",
       "      <td>...</td>\n",
       "      <td>...</td>\n",
       "      <td>...</td>\n",
       "      <td>...</td>\n",
       "      <td>...</td>\n",
       "      <td>...</td>\n",
       "      <td>...</td>\n",
       "      <td>...</td>\n",
       "    </tr>\n",
       "    <tr>\n",
       "      <th>9697</th>\n",
       "      <td>2021</td>\n",
       "      <td>White</td>\n",
       "      <td>Tulare County</td>\n",
       "      <td>524</td>\n",
       "      <td>407</td>\n",
       "      <td>195</td>\n",
       "      <td>10</td>\n",
       "      <td>413</td>\n",
       "      <td>1549</td>\n",
       "      <td>3368</td>\n",
       "      <td>31</td>\n",
       "      <td>2360</td>\n",
       "      <td>635</td>\n",
       "    </tr>\n",
       "    <tr>\n",
       "      <th>9698</th>\n",
       "      <td>2021</td>\n",
       "      <td>White</td>\n",
       "      <td>Tuolumne County</td>\n",
       "      <td>182</td>\n",
       "      <td>63</td>\n",
       "      <td>35</td>\n",
       "      <td>13</td>\n",
       "      <td>289</td>\n",
       "      <td>582</td>\n",
       "      <td>1393</td>\n",
       "      <td>2</td>\n",
       "      <td>229</td>\n",
       "      <td>44</td>\n",
       "    </tr>\n",
       "    <tr>\n",
       "      <th>9699</th>\n",
       "      <td>2021</td>\n",
       "      <td>White</td>\n",
       "      <td>Ventura County</td>\n",
       "      <td>574</td>\n",
       "      <td>372</td>\n",
       "      <td>308</td>\n",
       "      <td>13</td>\n",
       "      <td>672</td>\n",
       "      <td>1939</td>\n",
       "      <td>7509</td>\n",
       "      <td>18</td>\n",
       "      <td>1845</td>\n",
       "      <td>752</td>\n",
       "    </tr>\n",
       "    <tr>\n",
       "      <th>9700</th>\n",
       "      <td>2021</td>\n",
       "      <td>White</td>\n",
       "      <td>Yolo County</td>\n",
       "      <td>171</td>\n",
       "      <td>163</td>\n",
       "      <td>51</td>\n",
       "      <td>8</td>\n",
       "      <td>173</td>\n",
       "      <td>566</td>\n",
       "      <td>1051</td>\n",
       "      <td>0</td>\n",
       "      <td>480</td>\n",
       "      <td>92</td>\n",
       "    </tr>\n",
       "    <tr>\n",
       "      <th>9701</th>\n",
       "      <td>2021</td>\n",
       "      <td>White</td>\n",
       "      <td>Yuba County</td>\n",
       "      <td>215</td>\n",
       "      <td>123</td>\n",
       "      <td>68</td>\n",
       "      <td>20</td>\n",
       "      <td>138</td>\n",
       "      <td>564</td>\n",
       "      <td>1160</td>\n",
       "      <td>0</td>\n",
       "      <td>355</td>\n",
       "      <td>112</td>\n",
       "    </tr>\n",
       "  </tbody>\n",
       "</table>\n",
       "<p>9702 rows × 13 columns</p>\n",
       "</div>"
      ],
      "text/plain": [
       "      YEAR   RACE               COUNTY  VIOLENT  PROPERTY  F_DRUGOFF  \\\n",
       "0     1980  Black       Alameda County     2594      5138       1489   \n",
       "1     1980  Black         Butte County       32        33          5   \n",
       "2     1980  Black     Calaveras County        0         0          0   \n",
       "3     1980  Black        Colusa County        0         5          0   \n",
       "4     1980  Black  Contra Costa County      720      1422        368   \n",
       "...    ...    ...                  ...      ...       ...        ...   \n",
       "9697  2021  White        Tulare County      524       407        195   \n",
       "9698  2021  White      Tuolumne County      182        63         35   \n",
       "9699  2021  White       Ventura County      574       372        308   \n",
       "9700  2021  White          Yolo County      171       163         51   \n",
       "9701  2021  White          Yuba County      215       123         68   \n",
       "\n",
       "      F_SEXOFF  F_ALLOTHER  F_TOTAL  M_TOTAL  S_TOTAL  total_violent_by_race  \\\n",
       "0           94         541     9856    24081      555                   4504   \n",
       "1            0           7       77      139        0                    306   \n",
       "2            0           0        0        7        0                     52   \n",
       "3            0           0        5       13        0                     28   \n",
       "4           24         257     2791     5201       40                   1596   \n",
       "...        ...         ...      ...      ...      ...                    ...   \n",
       "9697        10         413     1549     3368       31                   2360   \n",
       "9698        13         289      582     1393        2                    229   \n",
       "9699        13         672     1939     7509       18                   1845   \n",
       "9700         8         173      566     1051        0                    480   \n",
       "9701        20         138      564     1160        0                    355   \n",
       "\n",
       "      total_drug_by_race  \n",
       "0                   3569  \n",
       "1                    149  \n",
       "2                     83  \n",
       "3                      9  \n",
       "4                   1089  \n",
       "...                  ...  \n",
       "9697                 635  \n",
       "9698                  44  \n",
       "9699                 752  \n",
       "9700                  92  \n",
       "9701                 112  \n",
       "\n",
       "[9702 rows x 13 columns]"
      ]
     },
     "execution_count": 7,
     "metadata": {},
     "output_type": "execute_result"
    }
   ],
   "source": [
    "violent_year = county_year_race.groupby([\"COUNTY\", \"YEAR\"])[\"VIOLENT\"].transform(\"sum\")\n",
    "drug_year = county_year_race.groupby([\"COUNTY\", \"YEAR\"])[\"F_DRUGOFF\"].transform(\"sum\")\n",
    "county_year_race[\"total_violent_by_race\"] = violent_year\n",
    "county_year_race[\"total_drug_by_race\"] = drug_year\n",
    "county_year_race"
   ]
  },
  {
   "cell_type": "markdown",
   "metadata": {},
   "source": [
    "# Exercise 7: Share of violent and drug arrestees for each racial group"
   ]
  },
  {
   "cell_type": "code",
   "execution_count": 8,
   "metadata": {},
   "outputs": [
    {
     "data": {
      "text/html": [
       "<div>\n",
       "<style scoped>\n",
       "    .dataframe tbody tr th:only-of-type {\n",
       "        vertical-align: middle;\n",
       "    }\n",
       "\n",
       "    .dataframe tbody tr th {\n",
       "        vertical-align: top;\n",
       "    }\n",
       "\n",
       "    .dataframe thead th {\n",
       "        text-align: right;\n",
       "    }\n",
       "</style>\n",
       "<table border=\"1\" class=\"dataframe\">\n",
       "  <thead>\n",
       "    <tr style=\"text-align: right;\">\n",
       "      <th></th>\n",
       "      <th>YEAR</th>\n",
       "      <th>RACE</th>\n",
       "      <th>COUNTY</th>\n",
       "      <th>VIOLENT</th>\n",
       "      <th>PROPERTY</th>\n",
       "      <th>F_DRUGOFF</th>\n",
       "      <th>F_SEXOFF</th>\n",
       "      <th>F_ALLOTHER</th>\n",
       "      <th>F_TOTAL</th>\n",
       "      <th>M_TOTAL</th>\n",
       "      <th>S_TOTAL</th>\n",
       "      <th>total_violent_by_race</th>\n",
       "      <th>total_drug_by_race</th>\n",
       "      <th>share_violent_by_race</th>\n",
       "      <th>share_drug_by_race</th>\n",
       "    </tr>\n",
       "  </thead>\n",
       "  <tbody>\n",
       "    <tr>\n",
       "      <th>0</th>\n",
       "      <td>1980</td>\n",
       "      <td>Black</td>\n",
       "      <td>Alameda County</td>\n",
       "      <td>2594</td>\n",
       "      <td>5138</td>\n",
       "      <td>1489</td>\n",
       "      <td>94</td>\n",
       "      <td>541</td>\n",
       "      <td>9856</td>\n",
       "      <td>24081</td>\n",
       "      <td>555</td>\n",
       "      <td>4504</td>\n",
       "      <td>3569</td>\n",
       "      <td>0.575933</td>\n",
       "      <td>0.417204</td>\n",
       "    </tr>\n",
       "    <tr>\n",
       "      <th>1</th>\n",
       "      <td>1980</td>\n",
       "      <td>Black</td>\n",
       "      <td>Butte County</td>\n",
       "      <td>32</td>\n",
       "      <td>33</td>\n",
       "      <td>5</td>\n",
       "      <td>0</td>\n",
       "      <td>7</td>\n",
       "      <td>77</td>\n",
       "      <td>139</td>\n",
       "      <td>0</td>\n",
       "      <td>306</td>\n",
       "      <td>149</td>\n",
       "      <td>0.104575</td>\n",
       "      <td>0.033557</td>\n",
       "    </tr>\n",
       "    <tr>\n",
       "      <th>2</th>\n",
       "      <td>1980</td>\n",
       "      <td>Black</td>\n",
       "      <td>Calaveras County</td>\n",
       "      <td>0</td>\n",
       "      <td>0</td>\n",
       "      <td>0</td>\n",
       "      <td>0</td>\n",
       "      <td>0</td>\n",
       "      <td>0</td>\n",
       "      <td>7</td>\n",
       "      <td>0</td>\n",
       "      <td>52</td>\n",
       "      <td>83</td>\n",
       "      <td>0.000000</td>\n",
       "      <td>0.000000</td>\n",
       "    </tr>\n",
       "    <tr>\n",
       "      <th>3</th>\n",
       "      <td>1980</td>\n",
       "      <td>Black</td>\n",
       "      <td>Colusa County</td>\n",
       "      <td>0</td>\n",
       "      <td>5</td>\n",
       "      <td>0</td>\n",
       "      <td>0</td>\n",
       "      <td>0</td>\n",
       "      <td>5</td>\n",
       "      <td>13</td>\n",
       "      <td>0</td>\n",
       "      <td>28</td>\n",
       "      <td>9</td>\n",
       "      <td>0.000000</td>\n",
       "      <td>0.000000</td>\n",
       "    </tr>\n",
       "    <tr>\n",
       "      <th>4</th>\n",
       "      <td>1980</td>\n",
       "      <td>Black</td>\n",
       "      <td>Contra Costa County</td>\n",
       "      <td>720</td>\n",
       "      <td>1422</td>\n",
       "      <td>368</td>\n",
       "      <td>24</td>\n",
       "      <td>257</td>\n",
       "      <td>2791</td>\n",
       "      <td>5201</td>\n",
       "      <td>40</td>\n",
       "      <td>1596</td>\n",
       "      <td>1089</td>\n",
       "      <td>0.451128</td>\n",
       "      <td>0.337925</td>\n",
       "    </tr>\n",
       "  </tbody>\n",
       "</table>\n",
       "</div>"
      ],
      "text/plain": [
       "   YEAR   RACE               COUNTY  VIOLENT  PROPERTY  F_DRUGOFF  F_SEXOFF  \\\n",
       "0  1980  Black       Alameda County     2594      5138       1489        94   \n",
       "1  1980  Black         Butte County       32        33          5         0   \n",
       "2  1980  Black     Calaveras County        0         0          0         0   \n",
       "3  1980  Black        Colusa County        0         5          0         0   \n",
       "4  1980  Black  Contra Costa County      720      1422        368        24   \n",
       "\n",
       "   F_ALLOTHER  F_TOTAL  M_TOTAL  S_TOTAL  total_violent_by_race  \\\n",
       "0         541     9856    24081      555                   4504   \n",
       "1           7       77      139        0                    306   \n",
       "2           0        0        7        0                     52   \n",
       "3           0        5       13        0                     28   \n",
       "4         257     2791     5201       40                   1596   \n",
       "\n",
       "   total_drug_by_race  share_violent_by_race  share_drug_by_race  \n",
       "0                3569               0.575933            0.417204  \n",
       "1                 149               0.104575            0.033557  \n",
       "2                  83               0.000000            0.000000  \n",
       "3                   9               0.000000            0.000000  \n",
       "4                1089               0.451128            0.337925  "
      ]
     },
     "execution_count": 8,
     "metadata": {},
     "output_type": "execute_result"
    }
   ],
   "source": [
    "# added columns for share of violent and drug-related arrests by race\n",
    "county_year_race[\"share_violent_by_race\"] = (\n",
    "    county_year_race[\"VIOLENT\"] / county_year_race[\"total_violent_by_race\"]\n",
    ")\n",
    "county_year_race[\"share_drug_by_race\"] = (\n",
    "    county_year_race[\"F_DRUGOFF\"] / county_year_race[\"total_drug_by_race\"]\n",
    ")\n",
    "county_year_race.head()"
   ]
  },
  {
   "cell_type": "code",
   "execution_count": 9,
   "metadata": {},
   "outputs": [
    {
     "name": "stdout",
     "output_type": "stream",
     "text": [
      "Share of violent arrestees in Alameda county in 1980 that were black: 0.58\n"
     ]
    }
   ],
   "source": [
    "# value between 0-1\n",
    "ex7_alameda_1980_share_violent_arrestees_black = county_year_race[\n",
    "    (county_year_race[\"YEAR\"] == 1980)\n",
    "    & (county_year_race[\"RACE\"] == \"Black\")\n",
    "    & (county_year_race[\"COUNTY\"] == \"Alameda County\")\n",
    "][\"share_violent_by_race\"][0]\n",
    "print(f\"Share of violent arrestees in Alameda county in 1980 that were black: {ex7_alameda_1980_share_violent_arrestees_black:.2f}\")"
   ]
  },
  {
   "cell_type": "markdown",
   "metadata": {},
   "source": [
    "# Exercise 8: Double-check features after data manipulation"
   ]
  },
  {
   "cell_type": "code",
   "execution_count": 10,
   "metadata": {},
   "outputs": [],
   "source": [
    "# check share of violent arrests fall between 0 and 1\n",
    "assert county_year_race[\"share_violent_by_race\"].all() >= 0\n",
    "assert county_year_race[\"share_violent_by_race\"].all() < 1"
   ]
  },
  {
   "cell_type": "code",
   "execution_count": 11,
   "metadata": {},
   "outputs": [],
   "source": [
    "# Q2-1: check unique counties with data for black arrestees\n",
    "county_year_black = county_year_race[county_year_race[\"RACE\"] == \"Black\"]\n",
    "county_year_black = county_year_black[county_year_black[\"F_TOTAL\"] > 0]\n",
    "assert county_year_black.nunique().loc[\"COUNTY\"] == 58\n"
   ]
  },
  {
   "cell_type": "code",
   "execution_count": 12,
   "metadata": {},
   "outputs": [],
   "source": [
    "# Q2-2: check unique counties with data for white arrestees\n",
    "county_year_white = county_year_race[county_year_race[\"RACE\"] == \"White\"]\n",
    "county_year_white = county_year_white[county_year_white[\"F_TOTAL\"] > 0]\n",
    "assert county_year_white.nunique().loc[\"COUNTY\"] == 58\n"
   ]
  },
  {
   "cell_type": "markdown",
   "metadata": {},
   "source": [
    "# Exercise 9: Check counties per year and racial group"
   ]
  },
  {
   "cell_type": "markdown",
   "metadata": {},
   "source": [
    "There is data from 1980 to 2021 which is a total of 42 years. We will seperate by race and group by county to see if each county has 42 rows, one for each year. "
   ]
  },
  {
   "cell_type": "code",
   "execution_count": 13,
   "metadata": {},
   "outputs": [
    {
     "data": {
      "text/plain": [
       "42    51\n",
       "41     3\n",
       "38     2\n",
       "30     1\n",
       "31     1\n",
       "Name: YEAR, dtype: int64"
      ]
     },
     "execution_count": 13,
     "metadata": {},
     "output_type": "execute_result"
    }
   ],
   "source": [
    "black2 = (\n",
    "    county_year_race[(county_year_race[\"RACE\"] == \"Black\")]\n",
    "    .groupby(\"COUNTY\")\n",
    "    .count()\n",
    "    .YEAR\n",
    ")\n",
    "black2.value_counts()"
   ]
  },
  {
   "cell_type": "code",
   "execution_count": 14,
   "metadata": {},
   "outputs": [
    {
     "data": {
      "text/plain": [
       "42    58\n",
       "Name: YEAR, dtype: int64"
      ]
     },
     "execution_count": 14,
     "metadata": {},
     "output_type": "execute_result"
    }
   ],
   "source": [
    "white2 = (\n",
    "    county_year_race[(county_year_race[\"RACE\"] == \"White\")]\n",
    "    .groupby(\"COUNTY\")\n",
    "    .count()\n",
    "    .YEAR\n",
    ")\n",
    "white2.value_counts()\n"
   ]
  },
  {
   "cell_type": "code",
   "execution_count": 15,
   "metadata": {},
   "outputs": [
    {
     "data": {
      "text/plain": [
       "42    57\n",
       "40     1\n",
       "Name: YEAR, dtype: int64"
      ]
     },
     "execution_count": 15,
     "metadata": {},
     "output_type": "execute_result"
    }
   ],
   "source": [
    "Other2 = (\n",
    "    county_year_race[(county_year_race[\"RACE\"] == \"Other\")]\n",
    "    .groupby(\"COUNTY\")\n",
    "    .count()\n",
    "    .YEAR\n",
    ")\n",
    "Other2.value_counts()\n"
   ]
  },
  {
   "cell_type": "code",
   "execution_count": 16,
   "metadata": {},
   "outputs": [
    {
     "data": {
      "text/plain": [
       "42    57\n",
       "36     1\n",
       "Name: YEAR, dtype: int64"
      ]
     },
     "execution_count": 16,
     "metadata": {},
     "output_type": "execute_result"
    }
   ],
   "source": [
    "Hispanic2 = (\n",
    "    county_year_race[(county_year_race[\"RACE\"] == \"Hispanic\")]\n",
    "    .groupby(\"COUNTY\")\n",
    "    .count()\n",
    "    .YEAR\n",
    ")\n",
    "Hispanic2.value_counts()\n"
   ]
  },
  {
   "cell_type": "markdown",
   "metadata": {},
   "source": [
    "There is data missing pertaining to Black arrestees from the following counties: Alpine County, Sierra County, Modoc County, Trinity County, Amador County, Mono County and Mariposa County. Upon further inspection, African Americans make up less than 2% of each of these counties (according to Census population data); with such a small sample there probably aren't any Black arrestees from those counties on those years. The same goes for Hispanic and Other races, they are underrepresented in the counties therefore there is limited data regardign them. However, there is data present across all counties and years for White arrestees since they make up the majority of each county in terms of population. \n",
    "\n",
    "In total there are 42 missing rows, that we need to fill in for. "
   ]
  },
  {
   "cell_type": "markdown",
   "metadata": {},
   "source": [
    "# Exercise 10: Fix the case of missing counties"
   ]
  },
  {
   "cell_type": "code",
   "execution_count": 17,
   "metadata": {},
   "outputs": [],
   "source": [
    "all_years = list(county_year_race['YEAR'].unique())\n",
    "all_races = list(county_year_race['RACE'].unique())\n",
    "all_counties = list(county_year_race['COUNTY'].unique())"
   ]
  },
  {
   "cell_type": "code",
   "execution_count": 18,
   "metadata": {},
   "outputs": [
    {
     "name": "stdout",
     "output_type": "stream",
     "text": [
      "(9702, 15)\n",
      "(9744, 15)\n"
     ]
    }
   ],
   "source": [
    "print(county_year_race.shape)\n",
    "for race in all_races:\n",
    "    for county in all_counties:\n",
    "        for year in all_years:\n",
    "            if county_year_race[(county_year_race['RACE'] == race) & (county_year_race['COUNTY'] == county) & (county_year_race['YEAR'] == year)].empty:\n",
    "                to_add = pd.DataFrame({'YEAR':year, 'RACE':race, 'COUNTY':county, 'VIOLENT':0, 'PROPERTY':0, 'F_DRUGOFF':0,\n",
    "       'F_SEXOFF':0, 'F_ALLOTHER':0, 'F_TOTAL':0, 'M_TOTAL':0, 'S_TOTAL':0,\n",
    "       'total_violent_by_race':0, 'total_drug_by_race':0, 'share_violent_by_race':0,\n",
    "       'share_drug_by_race':0}, index=[0])\n",
    "                county_year_race = pd.concat([county_year_race, to_add], ignore_index=True)\n",
    "\n",
    "print(county_year_race.shape)"
   ]
  },
  {
   "cell_type": "code",
   "execution_count": 19,
   "metadata": {},
   "outputs": [],
   "source": [
    "#48 years * 58 counties * 4 races = 9744\n",
    "assert county_year_race.shape[0] == 9744"
   ]
  },
  {
   "cell_type": "markdown",
   "metadata": {},
   "source": [
    "# Exercise 11: Calculate average share of Black and White drug arrestees"
   ]
  },
  {
   "cell_type": "code",
   "execution_count": 20,
   "metadata": {},
   "outputs": [
    {
     "name": "stdout",
     "output_type": "stream",
     "text": [
      "Average share of Black drug arrestees: 0.62\n"
     ]
    }
   ],
   "source": [
    "ex11_white_drug_share = county_year_race[(county_year_race[\"RACE\"] == \"White\")]['share_drug_by_race'].mean()\n",
    "print(f\"Average share of Black drug arrestees: {ex11_white_drug_share:.2f}\")"
   ]
  },
  {
   "cell_type": "code",
   "execution_count": 21,
   "metadata": {},
   "outputs": [
    {
     "name": "stdout",
     "output_type": "stream",
     "text": [
      "Average share of White drug arrestees: 0.09\n"
     ]
    }
   ],
   "source": [
    "ex11_black_drug_share = county_year_race[(county_year_race[\"RACE\"] == \"Black\")]['share_drug_by_race'].mean()\n",
    "print(f\"Average share of White drug arrestees: {ex11_black_drug_share:.2f}\")"
   ]
  },
  {
   "cell_type": "markdown",
   "metadata": {},
   "source": [
    "# Exercise 12: Plot violent arrests vs drug arrests"
   ]
  },
  {
   "cell_type": "code",
   "execution_count": 22,
   "metadata": {},
   "outputs": [
    {
     "data": {
      "image/png": "[encoded data removed]",
      "text/plain": [
       "<Figure size 1000x600 with 1 Axes>"
      ]
     },
     "metadata": {},
     "output_type": "display_data"
    }
   ],
   "source": [
    "Black_drug = county_year_race[county_year_race['RACE'] == 'Black']\n",
    "plt.figure(figsize=(10, 6))\n",
    "plt.scatter(\n",
    "    Black_drug[\"share_violent_by_race\"], Black_drug[\"share_drug_by_race\"], color=\"red\"\n",
    ")\n",
    "plt.plot([-0.05, 1], [-0.05, 1], color=\"black\", linewidth=2)\n",
    "plt.title(\"Share of Black Violent Arrests vs Share of Felony Drug Arrestees\")\n",
    "plt.xlabel(\"Black Violent Arrestees\")\n",
    "plt.ylabel(\"Black Felony Drug Arrestees\")\n",
    "plt.show()\n"
   ]
  },
  {
   "cell_type": "markdown",
   "metadata": {},
   "source": [
    "From the graph above, it shows that the felony drug arrestees and violent arrestees have positive relationship and look proportionate mostly. "
   ]
  },
  {
   "cell_type": "code",
   "execution_count": 23,
   "metadata": {},
   "outputs": [],
   "source": [
    "ratio = (Black_drug[\"share_violent_by_race\"] / Black_drug[\"share_drug_by_race\"]).fillna(0)\n",
    "ex12_proportionate = \"greater violent\""
   ]
  },
  {
   "cell_type": "markdown",
   "metadata": {},
   "source": [
    "From the results, I think the black arrestees make up a greater share of violent arrestees. "
   ]
  },
  {
   "cell_type": "code",
   "execution_count": 24,
   "metadata": {},
   "outputs": [],
   "source": [
    "results = {\n",
    "    \"ex4_num_rows\": ex4_num_rows,\n",
    "    \"ex5_collapsed_vars\": ex5_collapsed_vars,\n",
    "    \"ex7_alameda_1980_share_violent_arrestees_black\": ex7_alameda_1980_share_violent_arrestees_black,\n",
    "    \"ex11_white_drug_share\": ex11_white_drug_share,\n",
    "    \"ex11_black_drug_share\": ex11_black_drug_share,\n",
    "    \"ex12_proportionate\": ex12_proportionate,\n",
    "}"
   ]
  },
  {
   "cell_type": "code",
   "execution_count": 25,
   "metadata": {},
   "outputs": [],
   "source": [
    "assert set(results.keys()) == {\n",
    "    \"ex4_num_rows\",\n",
    "    \"ex5_collapsed_vars\",\n",
    "    \"ex7_alameda_1980_share_violent_arrestees_black\",\n",
    "    \"ex11_white_drug_share\",\n",
    "    \"ex11_black_drug_share\",\n",
    "    \"ex12_proportionate\",\n",
    "}\n"
   ]
  }
 ],
 "metadata": {
  "kernelspec": {
   "display_name": "Python 3.10.6 ('base')",
   "language": "python",
   "name": "python3"
  },
  "language_info": {
   "codemirror_mode": {
    "name": "ipython",
    "version": 3
   },
   "file_extension": ".py",
   "mimetype": "text/x-python",
   "name": "python",
   "nbconvert_exporter": "python",
   "pygments_lexer": "ipython3",
   "version": "3.10.6"
  },
  "orig_nbformat": 4,
  "vscode": {
   "interpreter": {
    "hash": "0660dbafbb79d2b4a4d3b4fdd3b4b30979b17b34162357f125b8968e0e7fa8b1"
   }
  }
 },
 "nbformat": 4,
 "nbformat_minor": 2
}
